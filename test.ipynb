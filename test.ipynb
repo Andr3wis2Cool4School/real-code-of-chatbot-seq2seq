{
 "metadata": {
  "language_info": {
   "codemirror_mode": {
    "name": "ipython",
    "version": 3
   },
   "file_extension": ".py",
   "mimetype": "text/x-python",
   "name": "python",
   "nbconvert_exporter": "python",
   "pygments_lexer": "ipython3",
   "version": "3.8.5"
  },
  "orig_nbformat": 2,
  "kernelspec": {
   "name": "python385jvsc74a57bd0b3ba2566441a7c06988d0923437866b63cedc61552a5af99d1f4fb67d367b25f",
   "display_name": "Python 3.8.5 64-bit (conda)"
  }
 },
 "nbformat": 4,
 "nbformat_minor": 2,
 "cells": [
  {
   "cell_type": "code",
   "execution_count": 1,
   "metadata": {},
   "outputs": [
    {
     "output_type": "execute_result",
     "data": {
      "text/plain": [
       "   Unnamed: 0  ...         subreddit\n",
       "0           0  ...  Whatcouldgowrong\n",
       "1           1  ...  Whatcouldgowrong\n",
       "2           2  ...  Whatcouldgowrong\n",
       "3           3  ...  Whatcouldgowrong\n",
       "4           4  ...  Whatcouldgowrong\n",
       "\n",
       "[5 rows x 5 columns]"
      ],
      "text/html": "<div>\n<style scoped>\n    .dataframe tbody tr th:only-of-type {\n        vertical-align: middle;\n    }\n\n    .dataframe tbody tr th {\n        vertical-align: top;\n    }\n\n    .dataframe thead th {\n        text-align: right;\n    }\n</style>\n<table border=\"1\" class=\"dataframe\">\n  <thead>\n    <tr style=\"text-align: right;\">\n      <th></th>\n      <th>Unnamed: 0</th>\n      <th>Unnamed: 0.1</th>\n      <th>comment</th>\n      <th>reply</th>\n      <th>subreddit</th>\n    </tr>\n  </thead>\n  <tbody>\n    <tr>\n      <th>0</th>\n      <td>0</td>\n      <td>0</td>\n      <td>I got downvoted saying tiktok post</td>\n      <td>Just report videos break rules . Mods take car...</td>\n      <td>Whatcouldgowrong</td>\n    </tr>\n    <tr>\n      <th>1</th>\n      <td>1</td>\n      <td>1</td>\n      <td>Fairly new , I apologise advance . What OC plu...</td>\n      <td>A plug advertise something usually like asking...</td>\n      <td>Whatcouldgowrong</td>\n    </tr>\n    <tr>\n      <th>2</th>\n      <td>2</td>\n      <td>2</td>\n      <td>&gt; See Rule 7 I see six rules sidebar .</td>\n      <td>Are old reddit ? Edit : Updated sidebar Old re...</td>\n      <td>Whatcouldgowrong</td>\n    </tr>\n    <tr>\n      <th>3</th>\n      <td>3</td>\n      <td>3</td>\n      <td>Any strong feelings `` Challenge '' videos ? I...</td>\n      <td>These usually removed , ones go way worse anyo...</td>\n      <td>Whatcouldgowrong</td>\n    </tr>\n    <tr>\n      <th>4</th>\n      <td>4</td>\n      <td>4</td>\n      <td>Geeeezus christ ... Rules vids</td>\n      <td>What</td>\n      <td>Whatcouldgowrong</td>\n    </tr>\n  </tbody>\n</table>\n</div>"
     },
     "metadata": {},
     "execution_count": 1
    }
   ],
   "source": [
    "import pandas as pd \n",
    "\n",
    "df = pd.read_csv('./data/finaldata.csv')\n",
    "df.head()"
   ]
  },
  {
   "cell_type": "code",
   "execution_count": null,
   "metadata": {},
   "outputs": [],
   "source": []
  }
 ]
}